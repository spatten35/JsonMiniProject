{
 "cells": [
  {
   "cell_type": "markdown",
   "metadata": {},
   "source": [
    "# What is the True Normal Human Body Temperature? \n",
    "\n",
    "#### Background\n",
    "\n",
    "The mean normal body temperature was held to be 37$^{\\circ}$C or 98.6$^{\\circ}$F for more than 120 years since it was first conceptualized and reported by Carl Wunderlich in a famous 1868 book. But, is this value statistically correct?"
   ]
  },
  {
   "cell_type": "markdown",
   "metadata": {},
   "source": [
    "<h3>Exercises</h3>\n",
    "\n",
    "<p>In this exercise, you will analyze a dataset of human body temperatures and employ the concepts of hypothesis testing, confidence intervals, and statistical significance.</p>\n",
    "\n",
    "<p>Answer the following questions <b>in this notebook below and submit to your Github account</b>.</p> \n",
    "\n",
    "<ol>\n",
    "<li>  Is the distribution of body temperatures normal? \n",
    "    <ul>\n",
    "    <li> Although this is not a requirement for the Central Limit Theorem to hold (read the introduction on Wikipedia's page about the CLT carefully: https://en.wikipedia.org/wiki/Central_limit_theorem), it gives us some peace of mind that the population may also be normally distributed if we assume that this sample is representative of the population.\n",
    "    <li> Think about the way you're going to check for the normality of the distribution. Graphical methods are usually used first, but there are also other ways: https://en.wikipedia.org/wiki/Normality_test\n",
    "    </ul>\n",
    "<li>  Is the sample size large? Are the observations independent?\n",
    "    <ul>\n",
    "    <li> Remember that this is a condition for the Central Limit Theorem, and hence the statistical tests we are using, to apply.\n",
    "    </ul>\n",
    "<li>  Is the true population mean really 98.6 degrees F?\n",
    "    <ul>\n",
    "    <li> First, try a bootstrap hypothesis test.\n",
    "    <li> Now, let's try frequentist statistical testing. Would you use a one-sample or two-sample test? Why?\n",
    "    <li> In this situation, is it appropriate to use the $t$ or $z$ statistic? \n",
    "    <li> Now try using the other test. How is the result be different? Why?\n",
    "    </ul>\n",
    "<li>  Draw a small sample of size 10 from the data and repeat both frequentist tests. \n",
    "    <ul>\n",
    "    <li> Which one is the correct one to use? \n",
    "    <li> What do you notice? What does this tell you about the difference in application of the $t$ and $z$ statistic?\n",
    "    </ul>\n",
    "<li>  At what temperature should we consider someone's temperature to be \"abnormal\"?\n",
    "    <ul>\n",
    "    <li> As in the previous example, try calculating everything using the boostrap approach, as well as the frequentist approach.\n",
    "    <li> Start by computing the margin of error and confidence interval. When calculating the confidence interval, keep in mind that you should use the appropriate formula for one draw, and not N draws.\n",
    "    </ul>\n",
    "<li>  Is there a significant difference between males and females in normal temperature?\n",
    "    <ul>\n",
    "    <li> What testing approach did you use and why?\n",
    "    <li> Write a story with your conclusion in the context of the original problem.\n",
    "    </ul>\n",
    "</ol>\n",
    "\n",
    "You can include written notes in notebook cells using Markdown: \n",
    "   - In the control panel at the top, choose Cell > Cell Type > Markdown\n",
    "   - Markdown syntax: http://nestacms.com/docs/creating-content/markdown-cheat-sheet\n",
    "\n",
    "#### Resources\n",
    "\n",
    "+ Information and data sources: http://www.amstat.org/publications/jse/datasets/normtemp.txt, http://www.amstat.org/publications/jse/jse_data_archive.htm\n",
    "+ Markdown syntax: http://nestacms.com/docs/creating-content/markdown-cheat-sheet\n",
    "\n",
    "****"
   ]
  },
  {
   "cell_type": "code",
   "execution_count": 1,
   "metadata": {},
   "outputs": [],
   "source": [
    "import pandas as pd\n",
    "\n",
    "df = pd.read_csv('data/human_body_temperature.csv')"
   ]
  },
  {
   "cell_type": "markdown",
   "metadata": {},
   "source": [
    "# 1. Is the distribution of body temperatures normal?"
   ]
  },
  {
   "cell_type": "code",
   "execution_count": 3,
   "metadata": {},
   "outputs": [
    {
     "name": "stdout",
     "output_type": "stream",
     "text": [
      "   temperature gender  heart_rate\n",
      "0         99.3      F        68.0\n",
      "1         98.4      F        81.0\n",
      "2         97.8      M        73.0\n",
      "3         99.2      F        66.0\n",
      "4         98.0      F        73.0\n",
      "<class 'pandas.core.frame.DataFrame'>\n",
      "RangeIndex: 130 entries, 0 to 129\n",
      "Data columns (total 3 columns):\n",
      "temperature    130 non-null float64\n",
      "gender         130 non-null object\n",
      "heart_rate     130 non-null float64\n",
      "dtypes: float64(2), object(1)\n",
      "memory usage: 3.1+ KB\n",
      "None\n"
     ]
    }
   ],
   "source": [
    "print(df.head())\n",
    "print(df.info())"
   ]
  },
  {
   "cell_type": "code",
   "execution_count": 6,
   "metadata": {},
   "outputs": [
    {
     "name": "stdout",
     "output_type": "stream",
     "text": [
      "['F' 'M']\n",
      "Minimum Temperature:  96.3\n",
      "Maximum Temperature:  100.8\n",
      "Minimum Heart rate:  57.0\n",
      "Maximum Heart rate:  89.0\n"
     ]
    }
   ],
   "source": [
    "print(df.gender.unique())\n",
    "print('Minimum Temperature: ', str(min(df.temperature)))\n",
    "print('Maximum Temperature: ', str(max(df.temperature)))\n",
    "print('Minimum Heart rate: ', str(min(df.heart_rate)))\n",
    "print('Maximum Heart rate: ', str(max(df.heart_rate)))"
   ]
  },
  {
   "cell_type": "code",
   "execution_count": 8,
   "metadata": {},
   "outputs": [
    {
     "data": {
      "image/png": "[encoded data removed]",
      "text/plain": [
       "<Figure size 432x288 with 1 Axes>"
      ]
     },
     "metadata": {
      "needs_background": "light"
     },
     "output_type": "display_data"
    }
   ],
   "source": [
    "import matplotlib.pyplot as plt\n",
    "import numpy as np\n",
    "n_bins = int(np.sqrt(len(df.temperature)))\n",
    "_ = plt.hist(df.temperature, bins=n_bins)\n",
    "_ = plt.title('')\n",
    "_ = plt.xlabel('Human Body Temperature')\n",
    "_ = plt.ylabel('Observation Frequency')\n",
    "plt.show()"
   ]
  },
  {
   "cell_type": "code",
   "execution_count": 9,
   "metadata": {},
   "outputs": [],
   "source": [
    "# Define Empirical Cumulative Distribution Function (ECDF) to compare multiple distributions\n",
    "def ecdf(data):\n",
    "    \"\"\"Compute ECDF for a one-dimensional array of measurements.\"\"\"\n",
    "\n",
    "    # Number of data points: n\n",
    "    n = len(data)\n",
    "\n",
    "    # x-data for the ECDF: x\n",
    "    x = np.sort(data)\n",
    "\n",
    "    # y-data for the ECDF: y\n",
    "    y = np.arange(1, n+1) / n\n",
    "\n",
    "    return x, y"
   ]
  },
  {
   "cell_type": "code",
   "execution_count": 82,
   "metadata": {},
   "outputs": [],
   "source": [
    "# Determine mean and standard deviation from the sample data to model against \n",
    "# theoretical values obtained from sampling the normal distribution\n",
    "df_mean = np.mean(df.temperature)\n",
    "df_std = np.std(df.temperature)\n",
    "theory = np.random.normal(df_mean, df_std, size = 10000)\n",
    "\n",
    "df_x, df_y = ecdf(df.temperature)\n",
    "theory_x, theory_y = ecdf(theory)"
   ]
  },
  {
   "cell_type": "code",
   "execution_count": 83,
   "metadata": {},
   "outputs": [
    {
     "data": {
      "image/png": "[encoded data removed]",
      "text/plain": [
       "<Figure size 432x288 with 1 Axes>"
      ]
     },
     "metadata": {
      "needs_background": "light"
     },
     "output_type": "display_data"
    }
   ],
   "source": [
    "# Plotting these values to visualize similarities or differences\n",
    "_ = plt.plot(df_x, df_y, marker='.', linestyle = 'none')\n",
    "_ = plt.plot(theory_x, theory_y)\n",
    "_ = plt.xlabel('Human Body Temperature')\n",
    "_ = plt.ylabel('ECDF')\n",
    "_ = plt.legend(['Sample', 'Theoretical Normal'])\n",
    "_ = plt.margins(0.02)\n",
    "plt.show()"
   ]
  },
  {
   "cell_type": "markdown",
   "metadata": {},
   "source": [
    "The above graph shows the ECDF for a theoretical normal distribution given the mean and standard deviation from our sample set (represented in orange); the blue dots represents our sample data. As we can see, these are very closely aligned, implying the distribution is normal."
   ]
  },
  {
   "cell_type": "markdown",
   "metadata": {},
   "source": [
    "# 2. Is the sample size large? Are the observations independent?"
   ]
  },
  {
   "cell_type": "code",
   "execution_count": 13,
   "metadata": {},
   "outputs": [
    {
     "name": "stdout",
     "output_type": "stream",
     "text": [
      "<class 'pandas.core.frame.DataFrame'>\n",
      "RangeIndex: 130 entries, 0 to 129\n",
      "Data columns (total 3 columns):\n",
      "temperature    130 non-null float64\n",
      "gender         130 non-null object\n",
      "heart_rate     130 non-null float64\n",
      "dtypes: float64(2), object(1)\n",
      "memory usage: 3.1+ KB\n"
     ]
    }
   ],
   "source": [
    "df.info()"
   ]
  },
  {
   "cell_type": "markdown",
   "metadata": {},
   "source": [
    "Per the info on this dataset, there are 130 non-null observations in this dataset. The general rule is a minimum of 30 observations for a dataset to be considered large enough, therefore this dataset is large. \n",
    "\n",
    "Each observation in the dataset is a unique occurence of either a male or female's heart rate and body temperature, so they're independent. "
   ]
  },
  {
   "cell_type": "markdown",
   "metadata": {},
   "source": [
    "# 3. Is the true population mean really 98.6 degrees F?\n",
    "## First, try a bootstrap hypothesis test.\n",
    "\n",
    " Our Hypothesis we'll be testing is that the mean body temperature is 98.6 degrees F, therefore\n",
    " our null hypothesis is the mean body temperature != 98.6"
   ]
  },
  {
   "cell_type": "code",
   "execution_count": 20,
   "metadata": {},
   "outputs": [
    {
     "name": "stdout",
     "output_type": "stream",
     "text": [
      "98.24923076923078\n"
     ]
    }
   ],
   "source": [
    "def draw_bs_reps(data, func, size=1):\n",
    "    \"\"\"Draw bootstrap replicates.\"\"\"\n",
    "\n",
    "    # Initialize array of replicates: bs_replicates\n",
    "    bs_replicates = np.empty(size)\n",
    "\n",
    "    # Generate replicates\n",
    "    for i in range(size):\n",
    "        bs_replicates[i] = bootstrap_replicate_1d(data, func)\n",
    "\n",
    "    return bs_replicates\n",
    "\n",
    "def bootstrap_replicate_1d(data, func):\n",
    "    return func(np.random.choice(data, size=len(data)))\n",
    "\n",
    "print(df_mean)"
   ]
  },
  {
   "cell_type": "code",
   "execution_count": 22,
   "metadata": {},
   "outputs": [
    {
     "name": "stdout",
     "output_type": "stream",
     "text": [
      "p =  0.0\n",
      "98.24923076923078\n"
     ]
    }
   ],
   "source": [
    "# We need to translate our dataset's mean to be that of the hypothesis; 98.6\n",
    "# We then need to take samples of this translated set to find the percent of the time we would observe our sample's mean\n",
    "# if the true mean is 98.6\n",
    "temp_translated = df.temperature - df_mean + 98.6\n",
    "bs_samples = draw_bs_reps(temp_translated, np.mean, 100000)\n",
    "p = np.sum(bs_samples <= df_mean) / 100000\n",
    "print('p = ', p)\n",
    "print(df_mean)"
   ]
  },
  {
   "cell_type": "markdown",
   "metadata": {},
   "source": [
    "After 100,000 samples, we obtained a p value of 0.0 meaning that we weren't able to replicate even 1 set that obtained the same mean as our dataset, so we should reject the null hypothesis. The mean body temperature for our sample set is 98.25.\n"
   ]
  },
  {
   "cell_type": "markdown",
   "metadata": {},
   "source": [
    "**Now, let's try frequentist statistical testing. Would you use a one-sample or two-sample test? Why?**\n",
    "\n",
    "A one sample test is sufficient because we are comparing a sample mean to an assumed / known population mean.\n",
    "\n",
    "**In this situation, is it appropriate to use the  𝑡  or  𝑧  statistic?**\n",
    "\n",
    "Because we do not know the general populations standard deviation, the t-statistic should be used. "
   ]
  },
  {
   "cell_type": "code",
   "execution_count": 23,
   "metadata": {},
   "outputs": [
    {
     "name": "stdout",
     "output_type": "stream",
     "text": [
      "The T-Statistic is:  -5.4548232923645195\n",
      "with a p-value of:  2.4106320415561276e-07\n"
     ]
    }
   ],
   "source": [
    "from scipy import stats\n",
    "t_stat, t_pval = stats.ttest_1samp(a=df.temperature, popmean=98.6)\n",
    "print('The T-Statistic is: ', str(t_stat))\n",
    "print('with a p-value of: ', str(t_pval))"
   ]
  },
  {
   "cell_type": "markdown",
   "metadata": {},
   "source": [
    "Our T-statistic is -5.45, with a very small p value. This means that for us to observe our sample mean of 98.25, we would be 5.45 standard deviations away from the population mean of 98.6. Furthermore, our very small p-value means it's very unlikely to observe the mean of our sample if the true mean were 98.6. "
   ]
  },
  {
   "cell_type": "markdown",
   "metadata": {},
   "source": [
    "**Now try using the other test. How is the result be different? Why?**\n",
    "\n",
    "If our sample size were to increase, the t-test result would converge to the z-test result. "
   ]
  },
  {
   "cell_type": "code",
   "execution_count": 25,
   "metadata": {},
   "outputs": [
    {
     "name": "stdout",
     "output_type": "stream",
     "text": [
      "The Z-Statistic is:  -5.4548232923645195\n",
      "with a p-value of:  4.9021570141012155e-08\n"
     ]
    }
   ],
   "source": [
    "from statsmodels.stats.weightstats import ztest\n",
    "z_stat, z_pval = ztest(df.temperature, value = 98.6)\n",
    "print('The Z-Statistic is: ', str(z_stat))\n",
    "print('with a p-value of: ', str(z_pval))"
   ]
  },
  {
   "cell_type": "markdown",
   "metadata": {},
   "source": [
    "We observed similar results through the z test, with -5.45 as our z value, but with an even smaller p-value"
   ]
  },
  {
   "cell_type": "markdown",
   "metadata": {},
   "source": [
    "# 4. Draw a small sample of size 10 from the data and repeat both frequentist tests.\n",
    "**Which one is the correct one to use?**\n",
    "**What do you notice? What does this tell you about the difference in application of the  𝑡  and  𝑧  statistic?**"
   ]
  },
  {
   "cell_type": "code",
   "execution_count": 41,
   "metadata": {},
   "outputs": [
    {
     "name": "stdout",
     "output_type": "stream",
     "text": [
      "The T-Statistic is:  -1.1677484162422795\n",
      "     with a p-value of:  0.2729122150940388\n",
      "The Z-Statistic is:  -1.1677484162422798\n",
      "     with a p-value of:  0.2429082609043257\n"
     ]
    }
   ],
   "source": [
    "np.random.seed(4)\n",
    "small_temp = np.random.choice(df.temperature, size=10)\n",
    "small_t_stat, small_t_pval = stats.ttest_1samp(a=small_temp, popmean=98.6)\n",
    "small_z_stat, small_z_pval = ztest(small_temp, value=98.6)\n",
    "print('The T-Statistic is: ', str(small_t_stat))\n",
    "print('     with a p-value of: ', str(small_t_pval))\n",
    "print('The Z-Statistic is: ', str(small_z_stat))\n",
    "print('     with a p-value of: ', str(small_z_pval))"
   ]
  },
  {
   "cell_type": "markdown",
   "metadata": {},
   "source": [
    "Because we are using a random sample of size 10, the t-test is appropriate. \n",
    "We observed a T-statistic of -1.16, meaning we're just barely over 1 standard deviation away now, with a high p-value. Meaning we can no longer reject the null hypothesis, and that the chance of observing our mean or lower, give the true mean is 98.6 would happen ~27% of the time. \n",
    "A difference observed between the T-statistic and Z-statistic is that it has a slightly lower p-value, meaning there would be a slightly lower chance of observing our mean. "
   ]
  },
  {
   "cell_type": "markdown",
   "metadata": {},
   "source": [
    "# 5. At what temperature should we consider someone's temperature to be \"abnormal\"?\n",
    "**As in the previous example, try calculating everything using the boostrap approach, as well as the frequentist approach.** \n",
    "\n",
    "**Start by computing the margin of error and confidence interval.** \n",
    "\n",
    "**When calculating the confidence interval, keep in mind that you should use the appropriate formula for one draw, and not N draws.** "
   ]
  },
  {
   "cell_type": "code",
   "execution_count": 67,
   "metadata": {},
   "outputs": [
    {
     "name": "stdout",
     "output_type": "stream",
     "text": [
      "p =  0.0\n",
      "DF mean:  98.24923076923078 Bootstrap sample mean:  98.6003001230769\n"
     ]
    }
   ],
   "source": [
    "df_mean = np.mean(df.temperature)\n",
    "df_std = np.std(df.temperature)\n",
    "temp_translated = df.temperature - df_mean + 98.6\n",
    "bs_samples = draw_bs_reps(temp_translated, np.mean, 100000)\n",
    "bs_mean = np.mean(bs_samples)\n",
    "p = np.sum(bs_samples <= df_mean) / len(bs_samples)\n",
    "print('p = ', p)\n",
    "print('DF mean: ', str(df_mean))\n",
    "print('Bootstrap sample mean: ', str(bs_mean))"
   ]
  },
  {
   "cell_type": "code",
   "execution_count": 69,
   "metadata": {},
   "outputs": [
    {
     "name": "stdout",
     "output_type": "stream",
     "text": [
      "The standard margin of error:  0.06405661469519336\n",
      "Our confidence interval is:  [98.47538462 98.72615385]\n"
     ]
    }
   ],
   "source": [
    "standard_error = df_std / np.sqrt(len(df.temperature))\n",
    "print('The standard margin of error: ', str(standard_error))\n",
    "\n",
    "confi_int = np.percentile(bs_samples, [2.5, 97.5])\n",
    "print('Our confidence interval is: ', confi_int)"
   ]
  },
  {
   "cell_type": "markdown",
   "metadata": {},
   "source": [
    "# 6. Is there a significant difference between males and females in normal temperature?\n"
   ]
  },
  {
   "cell_type": "code",
   "execution_count": 81,
   "metadata": {},
   "outputs": [
    {
     "data": {
      "image/png": "[encoded data removed]",
      "text/plain": [
       "<Figure size 216x216 with 1 Axes>"
      ]
     },
     "metadata": {
      "needs_background": "light"
     },
     "output_type": "display_data"
    },
    {
     "name": "stdout",
     "output_type": "stream",
     "text": [
      "Number of females in dataset:  65\n",
      "Number of males in dataset:  65\n"
     ]
    }
   ],
   "source": [
    "import seaborn as sns\n",
    "\n",
    "females = df[df.gender=='F']\n",
    "males = df[df.gender=='M']\n",
    "\n",
    "n_bins = int(np.sqrt(len(df.temperature)))\n",
    "_ = sns.FacetGrid(df, hue = 'gender', legend_out=True)\n",
    "_.map(plt.hist, 'temperature', bins=n_bins, alpha=0.5)\n",
    "_ = plt.title('')\n",
    "_ = plt.xlabel('Human Body Temperature')\n",
    "_ = plt.ylabel('Observation Frequency')\n",
    "plt.legend(loc=1)\n",
    "plt.show()\n",
    "print('Number of females in dataset: ', str(len(females.temperature)))\n",
    "print('Number of males in dataset: ', str(len(males.temperature)))"
   ]
  },
  {
   "cell_type": "markdown",
   "metadata": {},
   "source": [
    "From this dataset, it appears females may have a slightly higher average body temperature, and less variability. Though this is hard to confirm. "
   ]
  },
  {
   "cell_type": "code",
   "execution_count": 90,
   "metadata": {},
   "outputs": [
    {
     "data": {
      "image/png": "[encoded data removed]",
      "text/plain": [
       "<Figure size 432x288 with 1 Axes>"
      ]
     },
     "metadata": {
      "needs_background": "light"
     },
     "output_type": "display_data"
    }
   ],
   "source": [
    "female_mean = np.mean(females.temperature)\n",
    "female_std = np.std(females.temperature)\n",
    "female_theory = np.random.normal(female_mean, female_std, size = 10000)\n",
    "\n",
    "male_mean = np.mean(males.temperature)\n",
    "male_std = np.std(males.temperature)\n",
    "male_theory = np.random.normal(male_mean, male_std, size = 10000)\n",
    "\n",
    "female_x, female_y = ecdf(females.temperature)\n",
    "theory_f_x, theory_f_y = ecdf(female_theory)\n",
    "male_x, male_y = ecdf(males.temperature)\n",
    "theory_m_x, theory_m_y = ecdf(male_theory)\n",
    "\n",
    "_ = plt.plot(female_x, female_y, marker='.', linestyle = 'none', color='r')\n",
    "_ = plt.plot(male_x, male_y, marker='.', linestyle = 'none', color='b')\n",
    "_ = plt.plot(theory_f_x, theory_f_y, color='r', alpha=0.5)\n",
    "_ = plt.plot(theory_m_x, theory_m_y, color='b', alpha=0.5)\n",
    "_ = plt.xlabel('Human Body Temperature Males vs Females')\n",
    "_ = plt.ylabel('ECDF')\n",
    "_ = plt.legend(('females', 'males'))\n",
    "_ = plt.margins(0.02)\n",
    "plt.show()"
   ]
  },
  {
   "cell_type": "markdown",
   "metadata": {},
   "source": [
    "Our null hypothesis will  now be the average temperature of female = average temperature of male"
   ]
  },
  {
   "cell_type": "code",
   "execution_count": 95,
   "metadata": {},
   "outputs": [
    {
     "name": "stdout",
     "output_type": "stream",
     "text": [
      "female average :  98.39384615384613\n",
      "       variance:  0.5442698224852062\n",
      "       std     :  0.7377464486428966\n",
      "male average :  98.1046153846154\n",
      "     variance:  0.4807479289940825\n",
      "     std     :  0.6933598841828696\n"
     ]
    }
   ],
   "source": [
    "female_var = np.var(females.temperature)\n",
    "male_var = np.var(males.temperature)\n",
    "print('female average : ', str(female_mean))\n",
    "print('       variance: ', str(female_var))\n",
    "print('       std     : ', str(female_std))\n",
    "print('male average : ', str(male_mean))\n",
    "print('     variance: ', str(male_var))\n",
    "print('     std     : ', str(male_std))"
   ]
  },
  {
   "cell_type": "code",
   "execution_count": 94,
   "metadata": {},
   "outputs": [
    {
     "name": "stdout",
     "output_type": "stream",
     "text": [
      "Our T-statistic:  2.285434538165611\n",
      "Our p-value:  0.023938264182934196\n"
     ]
    }
   ],
   "source": [
    "gender_tstat, gender_pval = stats.ttest_ind(a = females.temperature, b = males.temperature, equal_var=False)\n",
    "print('Our T-statistic: ', str(gender_tstat))\n",
    "print('Our p-value: ', str(gender_pval))"
   ]
  },
  {
   "cell_type": "markdown",
   "metadata": {},
   "source": [
    "**What testing approach did you use and why?** \n",
    "I used the t-test assuming both datasets had the same average. I used this because we were asked if there was a significant difference between normal male and female temperatures. \n",
    "\n",
    "Since they are over 2 standard deviations away from each other, with a p-val < 0.05 we can reject the null hypothesis that their averages are the same, therefore determining that there is a significant difference between normal male and female temperatures. "
   ]
  },
  {
   "cell_type": "markdown",
   "metadata": {},
   "source": [
    "\n",
    "**Write a story with your conclusion in the context of the original problem.**"
   ]
  },
  {
   "cell_type": "markdown",
   "metadata": {},
   "source": [
    "Base on the given dataset, the mean human body temperature has been proven to be 98.25, rather than 98.6 degrees F. \n",
    "\n",
    "Our dataset had 130 observations, 65 from males and 65 from females. The original dataset, as well as the 2 subset datasets we created were approximately normal\n",
    "\n",
    "In our test to determine whether there was significant differences between male and female temperature, we saw that there were in fact. From our test, we saw that women have a slightly higher average body temperature, with more variability. \n",
    "\n",
    "Had we gone back to the original problem, and determined if the average male body temperature was 98.6, we probably would have found that it's even more unlikely (due to the smaller average or 98.1), however if we checked if the average female body temperature were 98.6, it would have been more likely (than the entire population), due to the higher average female temperature of 98.4.\n",
    "\n"
   ]
  }
 ],
 "metadata": {
  "kernelspec": {
   "display_name": "Python 3",
   "language": "python",
   "name": "python3"
  },
  "language_info": {
   "codemirror_mode": {
    "name": "ipython",
    "version": 3
   },
   "file_extension": ".py",
   "mimetype": "text/x-python",
   "name": "python",
   "nbconvert_exporter": "python",
   "pygments_lexer": "ipython3",
   "version": "3.7.1"
  }
 },
 "nbformat": 4,
 "nbformat_minor": 1
}
