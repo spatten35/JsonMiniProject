{
 "cells": [
  {
   "cell_type": "markdown",
   "metadata": {},
   "source": [
    "# Examining Racial Discrimination in the US Job Market\n",
    "\n",
    "### Background\n",
    "Racial discrimination continues to be pervasive in cultures throughout the world. Researchers examined the level of racial discrimination in the United States labor market by randomly assigning identical résumés to black-sounding or white-sounding names and observing the impact on requests for interviews from employers.\n",
    "\n",
    "### Data\n",
    "In the dataset provided, each row represents a resume. The 'race' column has two values, 'b' and 'w', indicating black-sounding and white-sounding. The column 'call' has two values, 1 and 0, indicating whether the resume received a call from employers or not.\n",
    "\n",
    "Note that the 'b' and 'w' values in race are assigned randomly to the resumes when presented to the employer."
   ]
  },
  {
   "cell_type": "markdown",
   "metadata": {},
   "source": [
    "### Exercises\n",
    "You will perform a statistical analysis to establish whether race has a significant impact on the rate of callbacks for resumes.\n",
    "\n",
    "Answer the following questions **in this notebook below and submit to your Github account**. \n",
    "\n",
    "   1. What test is appropriate for this problem? Does CLT apply?\n",
    "   2. What are the null and alternate hypotheses?\n",
    "   3. Compute margin of error, confidence interval, and p-value. Try using both the bootstrapping and the frequentist statistical approaches.\n",
    "   4. Write a story describing the statistical significance in the context or the original problem.\n",
    "   5. Does your analysis mean that race/name is the most important factor in callback success? Why or why not? If not, how would you amend your analysis?\n",
    "\n",
    "You can include written notes in notebook cells using Markdown: \n",
    "   - In the control panel at the top, choose Cell > Cell Type > Markdown\n",
    "   - Markdown syntax: http://nestacms.com/docs/creating-content/markdown-cheat-sheet\n",
    "\n",
    "#### Resources\n",
    "+ Experiment information and data source: http://www.povertyactionlab.org/evaluation/discrimination-job-market-united-states\n",
    "+ Scipy statistical methods: http://docs.scipy.org/doc/scipy/reference/stats.html \n",
    "+ Markdown syntax: http://nestacms.com/docs/creating-content/markdown-cheat-sheet\n",
    "+ Formulas for the Bernoulli distribution: https://en.wikipedia.org/wiki/Bernoulli_distribution"
   ]
  },
  {
   "cell_type": "code",
   "execution_count": 9,
   "metadata": {},
   "outputs": [],
   "source": [
    "import pandas as pd\n",
    "import numpy as np\n",
    "import matplotlib.pyplot as plt\n",
    "from scipy import stats"
   ]
  },
  {
   "cell_type": "code",
   "execution_count": 3,
   "metadata": {},
   "outputs": [],
   "source": [
    "data = pd.io.stata.read_stata('data/us_job_market_discrimination.dta')"
   ]
  },
  {
   "cell_type": "code",
   "execution_count": 8,
   "metadata": {},
   "outputs": [
    {
     "name": "stdout",
     "output_type": "stream",
     "text": [
      "                     call_backs  no_call  total   percent\n",
      "white_sounding_name       235.0   2200.0   2435  0.096509\n",
      "black_sounding_name       157.0   2278.0   2435  0.064476\n",
      "total                     392.0   4478.0   4870  0.080493\n"
     ]
    }
   ],
   "source": [
    "# number of callbacks for black-sounding names\n",
    "call_w = sum(data[data.race=='w'].call)\n",
    "call_b = sum(data[data.race=='b'].call)\n",
    "total_w = len(data[data.race=='w'])\n",
    "total_b = len(data[data.race=='b'])\n",
    "call_tot = sum(data.call)\n",
    "all_call = len(data.call)\n",
    "d = {'call_backs':[call_w, call_b, call_tot], 'no_call':[(total_w - call_w), (total_b - call_b), (all_call - call_tot)], 'total':[total_w, total_b, all_call], 'percent':[(call_w/total_w), (call_b/total_b), (call_tot/all_call)]}\n",
    "df = pd.DataFrame(data=d)\n",
    "df.index = ['white_sounding_name', 'black_sounding_name', 'total']\n",
    "print(df)"
   ]
  },
  {
   "cell_type": "code",
   "execution_count": 5,
   "metadata": {},
   "outputs": [
    {
     "data": {
      "text/html": [
       "<div>\n",
       "<style scoped>\n",
       "    .dataframe tbody tr th:only-of-type {\n",
       "        vertical-align: middle;\n",
       "    }\n",
       "\n",
       "    .dataframe tbody tr th {\n",
       "        vertical-align: top;\n",
       "    }\n",
       "\n",
       "    .dataframe thead th {\n",
       "        text-align: right;\n",
       "    }\n",
       "</style>\n",
       "<table border=\"1\" class=\"dataframe\">\n",
       "  <thead>\n",
       "    <tr style=\"text-align: right;\">\n",
       "      <th></th>\n",
       "      <th>id</th>\n",
       "      <th>ad</th>\n",
       "      <th>education</th>\n",
       "      <th>ofjobs</th>\n",
       "      <th>yearsexp</th>\n",
       "      <th>honors</th>\n",
       "      <th>volunteer</th>\n",
       "      <th>military</th>\n",
       "      <th>empholes</th>\n",
       "      <th>occupspecific</th>\n",
       "      <th>...</th>\n",
       "      <th>compreq</th>\n",
       "      <th>orgreq</th>\n",
       "      <th>manuf</th>\n",
       "      <th>transcom</th>\n",
       "      <th>bankreal</th>\n",
       "      <th>trade</th>\n",
       "      <th>busservice</th>\n",
       "      <th>othservice</th>\n",
       "      <th>missind</th>\n",
       "      <th>ownership</th>\n",
       "    </tr>\n",
       "  </thead>\n",
       "  <tbody>\n",
       "    <tr>\n",
       "      <th>0</th>\n",
       "      <td>b</td>\n",
       "      <td>1</td>\n",
       "      <td>4</td>\n",
       "      <td>2</td>\n",
       "      <td>6</td>\n",
       "      <td>0</td>\n",
       "      <td>0</td>\n",
       "      <td>0</td>\n",
       "      <td>1</td>\n",
       "      <td>17</td>\n",
       "      <td>...</td>\n",
       "      <td>1.0</td>\n",
       "      <td>0.0</td>\n",
       "      <td>1.0</td>\n",
       "      <td>0.0</td>\n",
       "      <td>0.0</td>\n",
       "      <td>0.0</td>\n",
       "      <td>0.0</td>\n",
       "      <td>0.0</td>\n",
       "      <td>0.0</td>\n",
       "      <td></td>\n",
       "    </tr>\n",
       "    <tr>\n",
       "      <th>1</th>\n",
       "      <td>b</td>\n",
       "      <td>1</td>\n",
       "      <td>3</td>\n",
       "      <td>3</td>\n",
       "      <td>6</td>\n",
       "      <td>0</td>\n",
       "      <td>1</td>\n",
       "      <td>1</td>\n",
       "      <td>0</td>\n",
       "      <td>316</td>\n",
       "      <td>...</td>\n",
       "      <td>1.0</td>\n",
       "      <td>0.0</td>\n",
       "      <td>1.0</td>\n",
       "      <td>0.0</td>\n",
       "      <td>0.0</td>\n",
       "      <td>0.0</td>\n",
       "      <td>0.0</td>\n",
       "      <td>0.0</td>\n",
       "      <td>0.0</td>\n",
       "      <td></td>\n",
       "    </tr>\n",
       "    <tr>\n",
       "      <th>2</th>\n",
       "      <td>b</td>\n",
       "      <td>1</td>\n",
       "      <td>4</td>\n",
       "      <td>1</td>\n",
       "      <td>6</td>\n",
       "      <td>0</td>\n",
       "      <td>0</td>\n",
       "      <td>0</td>\n",
       "      <td>0</td>\n",
       "      <td>19</td>\n",
       "      <td>...</td>\n",
       "      <td>1.0</td>\n",
       "      <td>0.0</td>\n",
       "      <td>1.0</td>\n",
       "      <td>0.0</td>\n",
       "      <td>0.0</td>\n",
       "      <td>0.0</td>\n",
       "      <td>0.0</td>\n",
       "      <td>0.0</td>\n",
       "      <td>0.0</td>\n",
       "      <td></td>\n",
       "    </tr>\n",
       "    <tr>\n",
       "      <th>3</th>\n",
       "      <td>b</td>\n",
       "      <td>1</td>\n",
       "      <td>3</td>\n",
       "      <td>4</td>\n",
       "      <td>6</td>\n",
       "      <td>0</td>\n",
       "      <td>1</td>\n",
       "      <td>0</td>\n",
       "      <td>1</td>\n",
       "      <td>313</td>\n",
       "      <td>...</td>\n",
       "      <td>1.0</td>\n",
       "      <td>0.0</td>\n",
       "      <td>1.0</td>\n",
       "      <td>0.0</td>\n",
       "      <td>0.0</td>\n",
       "      <td>0.0</td>\n",
       "      <td>0.0</td>\n",
       "      <td>0.0</td>\n",
       "      <td>0.0</td>\n",
       "      <td></td>\n",
       "    </tr>\n",
       "    <tr>\n",
       "      <th>4</th>\n",
       "      <td>b</td>\n",
       "      <td>1</td>\n",
       "      <td>3</td>\n",
       "      <td>3</td>\n",
       "      <td>22</td>\n",
       "      <td>0</td>\n",
       "      <td>0</td>\n",
       "      <td>0</td>\n",
       "      <td>0</td>\n",
       "      <td>313</td>\n",
       "      <td>...</td>\n",
       "      <td>1.0</td>\n",
       "      <td>1.0</td>\n",
       "      <td>0.0</td>\n",
       "      <td>0.0</td>\n",
       "      <td>0.0</td>\n",
       "      <td>0.0</td>\n",
       "      <td>0.0</td>\n",
       "      <td>1.0</td>\n",
       "      <td>0.0</td>\n",
       "      <td>Nonprofit</td>\n",
       "    </tr>\n",
       "  </tbody>\n",
       "</table>\n",
       "<p>5 rows × 65 columns</p>\n",
       "</div>"
      ],
      "text/plain": [
       "  id ad  education  ofjobs  yearsexp  honors  volunteer  military  empholes  \\\n",
       "0  b  1          4       2         6       0          0         0         1   \n",
       "1  b  1          3       3         6       0          1         1         0   \n",
       "2  b  1          4       1         6       0          0         0         0   \n",
       "3  b  1          3       4         6       0          1         0         1   \n",
       "4  b  1          3       3        22       0          0         0         0   \n",
       "\n",
       "   occupspecific    ...      compreq  orgreq  manuf  transcom  bankreal trade  \\\n",
       "0             17    ...          1.0     0.0    1.0       0.0       0.0   0.0   \n",
       "1            316    ...          1.0     0.0    1.0       0.0       0.0   0.0   \n",
       "2             19    ...          1.0     0.0    1.0       0.0       0.0   0.0   \n",
       "3            313    ...          1.0     0.0    1.0       0.0       0.0   0.0   \n",
       "4            313    ...          1.0     1.0    0.0       0.0       0.0   0.0   \n",
       "\n",
       "  busservice othservice  missind  ownership  \n",
       "0        0.0        0.0      0.0             \n",
       "1        0.0        0.0      0.0             \n",
       "2        0.0        0.0      0.0             \n",
       "3        0.0        0.0      0.0             \n",
       "4        0.0        1.0      0.0  Nonprofit  \n",
       "\n",
       "[5 rows x 65 columns]"
      ]
     },
     "execution_count": 5,
     "metadata": {},
     "output_type": "execute_result"
    }
   ],
   "source": [
    "data.head()"
   ]
  },
  {
   "cell_type": "code",
   "execution_count": 6,
   "metadata": {},
   "outputs": [],
   "source": [
    "def ecdf(data):\n",
    "    \"\"\"Compute ECDF for a one-dimensional array of measurements.\"\"\"\n",
    "\n",
    "    # Number of data points: n\n",
    "    n = len(data)\n",
    "\n",
    "    # x: sort the data\n",
    "    x = np.sort(data)\n",
    "\n",
    "    # y: range for y-axis\n",
    "    y = np.arange(1, n+1) / n\n",
    "\n",
    "    return x, y"
   ]
  },
  {
   "cell_type": "code",
   "execution_count": 11,
   "metadata": {},
   "outputs": [
    {
     "data": {
      "image/png": "[encoded data removed]",
      "text/plain": [
       "<Figure size 432x288 with 1 Axes>"
      ]
     },
     "metadata": {
      "needs_background": "light"
     },
     "output_type": "display_data"
    }
   ],
   "source": [
    "b = data[data.race == 'b']\n",
    "w = data[data.race == 'w']\n",
    "\n",
    "b_samples = np.random.binomial(total_b, df.percent.iloc[1], 10000)\n",
    "w_samples = np.random.binomial(total_w, df.percent.iloc[0], 10000)\n",
    "\n",
    "b_x, b_y = ecdf(b_samples)\n",
    "w_x, w_y = ecdf(w_samples)\n",
    "\n",
    "_ = plt.plot(b_x, b_y, marker='.', linestyle='none')\n",
    "_ = plt.plot(w_x, w_y, marker='.', linestyle='none')\n",
    "_ = plt.xlabel('Callbacks')\n",
    "_ = plt.ylabel('ECDF')\n",
    "_ = plt.title('Black vs White sounding names')\n",
    "_ = plt.legend(('Black sounding names', 'White sounding names'))\n",
    "plt.margins(0.02)\n",
    "plt.show()"
   ]
  },
  {
   "cell_type": "code",
   "execution_count": 14,
   "metadata": {},
   "outputs": [
    {
     "name": "stdout",
     "output_type": "stream",
     "text": [
      "True\n",
      "True\n",
      "True\n",
      "True\n"
     ]
    }
   ],
   "source": [
    "# For a binomial distribution, need certain requirements for CLT to apply:\n",
    "# n1 * p1 >= 5\n",
    "# n2 * p2 >= 5\n",
    "# n1 * (1-p1) >= 5\n",
    "# n2 * (1-p2) >= 5\n",
    "print((total_w * df.percent.iloc[0]) >= 5)\n",
    "print((total_b * df.percent.iloc[1]) >= 5)\n",
    "print((total_w * (1 - df.percent.iloc[0])) >= 5)\n",
    "print((total_b * (1 - df.percent.iloc[1])) >= 5)"
   ]
  },
  {
   "cell_type": "markdown",
   "metadata": {
    "collapsed": true
   },
   "source": [
    "<div class=\"span5 alert alert-success\">\n",
    "    <h2>What test is appropriate for this problem? Does CLT apply?</h2>\n",
    "    <p>Because we are checking if two groups have the same mean calls, we should use the two independent samples t-test.\n",
    "        The CLT does apply because the distributions are binomial, and we have a large sample size.</p>\n",
    "    \n",
    "   <h2>What are the null and alternate hypotheses?</h2>\n",
    "   <p>H0 = Percentage of callbacks on white sounding names = Percentage of callbacks on black sounding name</p>\n",
    "   <p>H1 = Percentage of callbacks on white sounding names != Percentage of callbacks on black sounding names</p>\n",
    "</div>"
   ]
  },
  {
   "cell_type": "markdown",
   "metadata": {
    "collapsed": true
   },
   "source": [
    "# Solution to Compute margin of error, confidence interval, and p-value.\n",
    "# Bootstrap approach:"
   ]
  },
  {
   "cell_type": "code",
   "execution_count": 28,
   "metadata": {},
   "outputs": [
    {
     "name": "stdout",
     "output_type": "stream",
     "text": [
      "Observation difference in mean:  0.032032854209445585\n",
      "Bootstrap P value:  0.0\n",
      "Bootstrap 95% confidence interval:  [-0.01560575  0.01519507]\n",
      "Bootstrap mean difference:  8.41889117043119e-06\n",
      "The margin of error for this test:  0.007640868695507801\n"
     ]
    }
   ],
   "source": [
    "callbacks = np.array([True]*int(call_tot) + [False]*int(all_call-call_tot))\n",
    "size = 10000\n",
    "bs_reps_diff = np.empty(size)\n",
    "perc_diff = df.percent.iloc[0] - df.percent.iloc[1]\n",
    "\n",
    "for i in range(size):\n",
    "    w_bs_reps = np.sum(np.random.choice(callbacks, size=total_w))\n",
    "    b_bs_reps = np.sum(np.random.choice(callbacks, size=total_b))\n",
    "    bs_reps_diff[i] = (w_bs_reps - b_bs_reps) / total_w\n",
    "\n",
    "bs_p_val = np.sum(bs_reps_diff >= perc_diff) / size\n",
    "bs_conf_int = np.percentile(bs_reps_diff, [2.5, 97.5])\n",
    "bs_mean_diff = np.mean(bs_reps_diff)\n",
    "bs_marg_err = (1.96) * (np.std(data.call))/(np.sqrt(len(data.call)))\n",
    "print('Observation difference in mean: ', str(perc_diff))\n",
    "print('Bootstrap P value: ', str(bs_p_val))\n",
    "print('Bootstrap 95% confidence interval: ', bs_conf_int)\n",
    "print('Bootstrap mean difference: ', str(bs_mean_diff))\n",
    "print('The margin of error for this test: ', bs_marg_err)"
   ]
  },
  {
   "cell_type": "markdown",
   "metadata": {},
   "source": [
    "# Frequentist statistical approach"
   ]
  },
  {
   "cell_type": "code",
   "execution_count": 27,
   "metadata": {},
   "outputs": [
    {
     "name": "stdout",
     "output_type": "stream",
     "text": [
      "False\n"
     ]
    }
   ],
   "source": [
    "w_std = np.std(w.call)\n",
    "b_std = np.std(b.call)\n",
    "w_var = np.var(w.call)\n",
    "b_var = np.var(b.call)\n",
    "tot_std = np.std(data.call)\n",
    "tot_var = np.std(data.call)\n",
    "print(w_var == b_var)"
   ]
  },
  {
   "cell_type": "code",
   "execution_count": 29,
   "metadata": {},
   "outputs": [
    {
     "name": "stdout",
     "output_type": "stream",
     "text": [
      "The T-statistic for this is:  4.114705290861751\n",
      "With a p-value of:  3.942941513645935e-05\n",
      "Margin of Error:  0.007640868695507801\n"
     ]
    }
   ],
   "source": [
    "t_stat, p_val = stats.ttest_ind(w.call, b.call, equal_var=False)\n",
    "marg_err = (1.96) * (tot_std)/(np.sqrt(len(data.call)))\n",
    "print('The T-statistic for this is: ', str(t_stat))\n",
    "print('With a p-value of: ', str(p_val))\n",
    "print('Margin of Error: ', marg_err)"
   ]
  },
  {
   "cell_type": "markdown",
   "metadata": {},
   "source": [
    "<div class=\"span5 alert alert-success\">\n",
    "    <h2>Write a story describing the statistical significance in the context or the original problem.</h2>\n",
    "    <p> With both approaches, it was found that black sounding names consistently get fewer callbacks than white sounding names. In the bootstrap approach, we took 10,000 samples and didn't even see 1 situation where our result from our original sample was repeated. In the frequentist statistical approach, our P-value was 0.000039. These two p-values show that our sample test was statistically significant and that we should reject the null hypothesis. White sounding names received callbacks approximately 50% more than black sounding names. \n",
    "    </p>\n",
    "</div>"
   ]
  },
  {
   "cell_type": "markdown",
   "metadata": {
    "collapsed": true
   },
   "source": [
    "<div class=\"span5 alert alert-success\">\n",
    "    <h2>Does your analysis mean that race/name is the most important factor in callback success? Why or why not? If not, how would you amend your analysis?</h2>\n",
    "    <p>Based off the orignal problem statement, the researchers used identical resumes and randomly assigned them either black or white sounding names. Based off the care with that, it seems safe to say that it was a very important factor in callback success. On their website, they also talk about how they sent in some \"higher quality resumes\" as well as \"lower quality resumes\" to each job. \n",
    "     Some potential changes to the study that could be done to determine if it really is the biggest factor would be to expand to other cities, and determine in which locations it has a bigger impact. \n",
    "    </p>\n",
    "</div>"
   ]
  }
 ],
 "metadata": {
  "kernelspec": {
   "display_name": "Python 3",
   "language": "python",
   "name": "python3"
  },
  "language_info": {
   "codemirror_mode": {
    "name": "ipython",
    "version": 3
   },
   "file_extension": ".py",
   "mimetype": "text/x-python",
   "name": "python",
   "nbconvert_exporter": "python",
   "pygments_lexer": "ipython3",
   "version": "3.7.1"
  }
 },
 "nbformat": 4,
 "nbformat_minor": 1
}
